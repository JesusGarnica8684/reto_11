{
  "nbformat": 4,
  "nbformat_minor": 0,
  "metadata": {
    "colab": {
      "provenance": []
    },
    "kernelspec": {
      "name": "python3",
      "display_name": "Python 3"
    },
    "language_info": {
      "name": "python"
    }
  },
  "cells": [
    {
      "cell_type": "markdown",
      "source": [
        "### Ejemplo endswith()"
      ],
      "metadata": {
        "id": "HJE_NHYZQjoP"
      }
    },
    {
      "cell_type": "code",
      "execution_count": 9,
      "metadata": {
        "colab": {
          "base_uri": "https://localhost:8080/"
        },
        "id": "FYD9GSQCQhva",
        "outputId": "eb3a6952-0ae6-46a6-f1e0-b58240215aa4"
      },
      "outputs": [
        {
          "output_type": "stream",
          "name": "stdout",
          "text": [
            "True\n"
          ]
        }
      ],
      "source": [
        "red : str = \"endswith() valora el que termina el string y regresa un booleano.\"\n",
        "flag = red.endswith(\"booleano.\")\n",
        "print(flag)"
      ]
    },
    {
      "cell_type": "markdown",
      "source": [
        "### Ejemplo startswith()"
      ],
      "metadata": {
        "id": "YC_QhUdMSF8M"
      }
    },
    {
      "cell_type": "code",
      "source": [
        "red : str = \"startswith() valora el que empieza el string y regresa un booleano.\"\n",
        "flag = red.startswith(\"starts\")\n",
        "print(flag)"
      ],
      "metadata": {
        "colab": {
          "base_uri": "https://localhost:8080/"
        },
        "id": "I8qG0bdPSK3b",
        "outputId": "261e2cea-aae2-4b9f-bfb9-259455b85f54"
      },
      "execution_count": 8,
      "outputs": [
        {
          "output_type": "stream",
          "name": "stdout",
          "text": [
            "True\n"
          ]
        }
      ]
    },
    {
      "cell_type": "markdown",
      "source": [
        "### Ejemplo isalpha()"
      ],
      "metadata": {
        "id": "IxO8GmCUTOu-"
      }
    },
    {
      "cell_type": "code",
      "source": [
        "notalfa : str = \"Esta cadena tiene numeros, deberia dar f4ls3.\"\n",
        "flag = notalfa.isalpha()\n",
        "print(flag)"
      ],
      "metadata": {
        "colab": {
          "base_uri": "https://localhost:8080/"
        },
        "id": "nBGTIwONTobv",
        "outputId": "716e4b38-369d-4259-e4d3-fde07213159e"
      },
      "execution_count": 10,
      "outputs": [
        {
          "output_type": "stream",
          "name": "stdout",
          "text": [
            "False\n"
          ]
        }
      ]
    },
    {
      "cell_type": "markdown",
      "source": [
        "### Ejemplo isalnum()"
      ],
      "metadata": {
        "id": "5NmSHdFITUyu"
      }
    },
    {
      "cell_type": "code",
      "source": [
        "alfanumstr : str = \"3st4 c4d3n4 3s 4lf4num3r1c4 deberia dar True\"\n",
        "flag = alfanumstr.isalnum()\n",
        "print(flag)"
      ],
      "metadata": {
        "colab": {
          "base_uri": "https://localhost:8080/"
        },
        "id": "yRqnJOgbUtrL",
        "outputId": "76f90155-6616-4ce6-ef98-bfc2be036d60"
      },
      "execution_count": 18,
      "outputs": [
        {
          "output_type": "stream",
          "name": "stdout",
          "text": [
            "False\n"
          ]
        }
      ]
    },
    {
      "cell_type": "markdown",
      "source": [
        "### Ejemplo isaldigit()"
      ],
      "metadata": {
        "id": "io_4Dq76X26-"
      }
    },
    {
      "cell_type": "code",
      "source": [
        "numstr : str = \"3434343414\"\n",
        "flag = numstr.isalnum()\n",
        "print(flag)"
      ],
      "metadata": {
        "colab": {
          "base_uri": "https://localhost:8080/"
        },
        "id": "gTqaTif1X7-_",
        "outputId": "194fbad5-f50c-4c49-bad7-989259cde1f2"
      },
      "execution_count": 17,
      "outputs": [
        {
          "output_type": "stream",
          "name": "stdout",
          "text": [
            "True\n"
          ]
        }
      ]
    },
    {
      "cell_type": "markdown",
      "source": [
        "### Ejemplo isspace()"
      ],
      "metadata": {
        "id": "zi3RuXY7Y4Dc"
      }
    },
    {
      "cell_type": "code",
      "source": [
        "nullstr : str = \"    \"\n",
        "flag = nullstr.isspace()\n",
        "print(flag)"
      ],
      "metadata": {
        "colab": {
          "base_uri": "https://localhost:8080/"
        },
        "id": "KM_WanDkY8oX",
        "outputId": "c374e844-41a2-4ba2-cdbd-25961afd2e9f"
      },
      "execution_count": 19,
      "outputs": [
        {
          "output_type": "stream",
          "name": "stdout",
          "text": [
            "True\n"
          ]
        }
      ]
    },
    {
      "cell_type": "markdown",
      "source": [
        "### Ejemplo istitle()"
      ],
      "metadata": {
        "id": "0flRQKcskf6o"
      }
    },
    {
      "cell_type": "code",
      "source": [
        "titlestr : str = \"Acerca De La Ontologia Del Ser:\"\n",
        "flag = titlestr.istitle()\n",
        "print(flag)"
      ],
      "metadata": {
        "colab": {
          "base_uri": "https://localhost:8080/"
        },
        "id": "Q_N8AQKNkkgW",
        "outputId": "a002af51-cd6a-4544-8c55-407c723aacd4"
      },
      "execution_count": 22,
      "outputs": [
        {
          "output_type": "stream",
          "name": "stdout",
          "text": [
            "True\n"
          ]
        }
      ]
    },
    {
      "cell_type": "markdown",
      "source": [
        "### Ejemplo islower ()"
      ],
      "metadata": {
        "id": "lTOJqQLFklAO"
      }
    },
    {
      "cell_type": "code",
      "source": [
        "lowerstr : str = \"acerca de la ontologia del ser:\"\n",
        "flag = lowerstr.islower()\n",
        "print(flag)"
      ],
      "metadata": {
        "colab": {
          "base_uri": "https://localhost:8080/"
        },
        "id": "ZFHDRsTxkrGG",
        "outputId": "325cf4aa-92bd-4194-d1f5-6adb60ecb6c3"
      },
      "execution_count": 26,
      "outputs": [
        {
          "output_type": "stream",
          "name": "stdout",
          "text": [
            "True\n"
          ]
        }
      ]
    },
    {
      "cell_type": "markdown",
      "source": [
        "### Ejemplo isupper()"
      ],
      "metadata": {
        "id": "ixmdhbTDkreW"
      }
    },
    {
      "cell_type": "code",
      "source": [
        "upperstr : str = \"ACERCA DE LA ONTOLOGIA DEL SER:\"\n",
        "flag = upperstr.isupper()\n",
        "print(flag)"
      ],
      "metadata": {
        "colab": {
          "base_uri": "https://localhost:8080/"
        },
        "id": "KCvMj_XgkyiO",
        "outputId": "be3b94d7-72be-4f0c-9cd6-083579ec3888"
      },
      "execution_count": 27,
      "outputs": [
        {
          "output_type": "stream",
          "name": "stdout",
          "text": [
            "True\n"
          ]
        }
      ]
    }
  ]
}